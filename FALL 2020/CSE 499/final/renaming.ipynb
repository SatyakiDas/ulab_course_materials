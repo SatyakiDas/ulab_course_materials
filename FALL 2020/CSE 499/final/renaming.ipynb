{
 "cells": [
  {
   "cell_type": "code",
   "execution_count": 22,
   "metadata": {},
   "outputs": [],
   "source": [
    "import pandas as pd"
   ]
  },
  {
   "cell_type": "code",
   "execution_count": 23,
   "metadata": {},
   "outputs": [
    {
     "name": "stdout",
     "output_type": "stream",
     "text": [
      "<class 'pandas.core.frame.DataFrame'>\n"
     ]
    }
   ],
   "source": [
    "excel = pd.read_excel(\"FINAL Defense Groups.xls\", sheet_name=\"Groups for Final Defense\")\n",
    "\n",
    "print(type(excel))"
   ]
  },
  {
   "cell_type": "code",
   "execution_count": 24,
   "metadata": {},
   "outputs": [
    {
     "data": {
      "text/plain": [
       "Index(['FINAL DEFENSE - FALL 2020', 'Unnamed: 1', 'Unnamed: 2', 'Unnamed: 3',\n",
       "       'Unnamed: 4', 'Unnamed: 5', 'Unnamed: 6'],\n",
       "      dtype='object')"
      ]
     },
     "execution_count": 24,
     "metadata": {},
     "output_type": "execute_result"
    }
   ],
   "source": [
    "excel.keys()"
   ]
  },
  {
   "cell_type": "code",
   "execution_count": 25,
   "metadata": {},
   "outputs": [
    {
     "data": {
      "text/plain": [
       "pandas.core.series.Series"
      ]
     },
     "execution_count": 25,
     "metadata": {},
     "output_type": "execute_result"
    }
   ],
   "source": [
    "type(excel[\"Unnamed: 4\"])"
   ]
  },
  {
   "cell_type": "code",
   "execution_count": 51,
   "metadata": {},
   "outputs": [
    {
     "data": {
      "text/plain": [
       "['-161014042-Jahanara Akter',\n",
       " '-151014037-Shaharia Alam',\n",
       " '-151014076-Sabbir Ahmed',\n",
       " '-143014058-Md. Rifat Hossain Himel']"
      ]
     },
     "execution_count": 51,
     "metadata": {},
     "output_type": "execute_result"
    }
   ],
   "source": [
    "supervisors = list(excel[\"Unnamed: 4\"])\n",
    "\n",
    "nameIdPart = []\n",
    "\n",
    "for i in range(len(supervisors)):\n",
    "    if supervisors[i] == \"Mr. Satyaki Das\":\n",
    "        id = list(excel[\"Unnamed: 1\"])[i]\n",
    "        name = list(excel[\"Unnamed: 2\"])[i]\n",
    "        nameIdPart.append(f\"-{id}-{name}\")\n",
    "\n",
    "nameIdPart"
   ]
  },
  {
   "cell_type": "code",
   "execution_count": 52,
   "metadata": {},
   "outputs": [
    {
     "name": "stdout",
     "output_type": "stream",
     "text": [
      "Supervisory Evaluation Form-161014042-Jahanara Akter.docx\n",
      "Supervisory Evaluation Form-151014037-Shaharia Alam.docx\n",
      "Supervisory Evaluation Form-151014076-Sabbir Ahmed.docx\n",
      "Supervisory Evaluation Form-143014058-Md. Rifat Hossain Himel.docx\n"
     ]
    }
   ],
   "source": [
    "import os\n",
    "\n",
    "prefix = \"Supervisory Evaluation Form\"\n",
    "ext = \".docx\"\n",
    "\n",
    "filenames = list(filter(lambda x: (prefix in x), os.listdir()))\n",
    "filenames\n",
    "\n",
    "for i in range(len(filenames)):\n",
    "    newFileName = f\"{prefix}{nameIdPart[i]}{ext}\"\n",
    "    print(newFileName)\n",
    "    os.rename(filenames[i], newFileName)"
   ]
  },
  {
   "cell_type": "code",
   "execution_count": null,
   "metadata": {},
   "outputs": [],
   "source": []
  }
 ],
 "metadata": {
  "kernelspec": {
   "display_name": "Python 3",
   "language": "python",
   "name": "python3"
  },
  "language_info": {
   "codemirror_mode": {
    "name": "ipython",
    "version": 3
   },
   "file_extension": ".py",
   "mimetype": "text/x-python",
   "name": "python",
   "nbconvert_exporter": "python",
   "pygments_lexer": "ipython3",
   "version": "3.7.5"
  }
 },
 "nbformat": 4,
 "nbformat_minor": 2
}
